{
 "cells": [
  {
   "cell_type": "markdown",
   "id": "2e4518e3-9a90-4958-b50b-02208ff1e869",
   "metadata": {},
   "source": [
    "### Dependencies\n",
    "\n",
    "1. File -> New -> Terminal\n",
    "2. Run the following commands to install the required dependencies:\n",
    "\n",
    "pip install pandas <br>\n",
    "pip install openpyxl"
   ]
  },
  {
   "cell_type": "code",
   "execution_count": 8,
   "id": "cd3796b1-5dac-4c80-b2c0-e9808cc93fd2",
   "metadata": {},
   "outputs": [],
   "source": [
    "# Read file with patient data\n",
    "import pandas as pd\n",
    "file_dem = \"patient-demographics.xlsx\"\n",
    "file_name_dem = \"patient-demographics\"\n",
    "df = pd.read_excel(file_dem, sheet_name=file_name_dem)"
   ]
  },
  {
   "cell_type": "markdown",
   "id": "fe579266-ef9a-4554-ae51-dd17b5fcc2df",
   "metadata": {},
   "source": [
    "##### Analyze Age Data"
   ]
  },
  {
   "cell_type": "code",
   "execution_count": 10,
   "id": "176fb427-dafb-4841-8888-501f9b82de2c",
   "metadata": {},
   "outputs": [],
   "source": [
    "from datetime import datetime\n",
    "\n",
    "# Calculate Age\n",
    "current_date = datetime.now()\n",
    "def calculate_age(birth_date):\n",
    "    return current_date.year - birth_date.year - ((current_date.month, current_date.day) < (birth_date.month, birth_date.day))"
   ]
  },
  {
   "cell_type": "code",
   "execution_count": 11,
   "id": "fc6a8c4a-c323-42fd-b249-f53e13333577",
   "metadata": {},
   "outputs": [],
   "source": [
    "# Get age from file and save into a new file\n",
    "df['Age'] = df['BirthDate'].apply(calculate_age)\n",
    "age_counts = df['Age'].value_counts().sort_index()\n",
    "age_df = pd.DataFrame({'Age': age_counts.index, 'Count': age_counts.values})\n",
    "output_age = 'age_patient_data.csv'\n",
    "age_df.to_csv(output_age, index=False)"
   ]
  },
  {
   "cell_type": "markdown",
   "id": "107ac16e-6cae-4d2c-a958-ac738a332bd3",
   "metadata": {},
   "source": [
    "##### Analyze Gender Data"
   ]
  },
  {
   "cell_type": "code",
   "execution_count": 12,
   "id": "89f9dd33-9d1b-4e1e-b9b6-6e89f6a66410",
   "metadata": {},
   "outputs": [],
   "source": [
    "# Get gender from file and save into a new file\n",
    "gender_counts = df['Gender'].value_counts()\n",
    "f_count = gender_counts.get('F', 0)\n",
    "m_count = gender_counts.get('M', 0)\n",
    "gender_df = pd.DataFrame({'Gender': ['Female', 'Male'], 'Count': [f_count, m_count]})\n",
    "\n",
    "output_gender = 'gender_patient_data.csv'\n",
    "gender_df.to_csv(output_gender, index=False)"
   ]
  },
  {
   "cell_type": "markdown",
   "id": "4734f74c-9ab3-4066-a243-ce2c33da6b69",
   "metadata": {},
   "source": [
    "##### Analyze Geographic Data (Zip Code)"
   ]
  },
  {
   "cell_type": "code",
   "execution_count": 14,
   "id": "0ae6f8da-b231-4553-945a-2c9a8aa49c5b",
   "metadata": {},
   "outputs": [],
   "source": [
    "# Get zipcode from file and save into a new file\n",
    "df['AddressZipCode'] = df['AddressZipCode'].fillna(0).astype(float).astype(int).astype(str)\n",
    "zipcode_counts = df['AddressZipCode'].value_counts().sort_index()\n",
    "zipcode_df = pd.DataFrame({'Zip Code': zipcode_counts.index.astype(str), 'Count': zipcode_counts.values})\n",
    "zipcode_df = zipcode_df[zipcode_df['Zip Code'] != '0']\n",
    "\n",
    "output_zipcode = 'zipcode_patient_data.csv'\n",
    "zipcode_df.to_csv(output_zipcode, index=False)"
   ]
  },
  {
   "cell_type": "markdown",
   "id": "c6df177d-a452-42b4-af40-ab88a37207f9",
   "metadata": {},
   "source": [
    "##### Analyze Language Data"
   ]
  },
  {
   "cell_type": "code",
   "execution_count": 16,
   "id": "d381a162-e2a4-4da1-84c4-57d102768f37",
   "metadata": {},
   "outputs": [],
   "source": [
    "# Get language from file\n",
    "\n",
    "language_counts = df['PreferredLanguage'].value_counts().sort_index()\n",
    "language_counts = df['PreferredLanguage'].value_counts()\n",
    "\n",
    "# Group languages with 10 or more patients individually, and group others under 'Other'\n",
    "top_languages = language_counts[language_counts >= 5]\n",
    "other_count = language_counts[language_counts < 5].sum()\n",
    "\n",
    "# Create DataFrame for languages\n",
    "top_languages_df = pd.DataFrame({'PreferredLanguage': top_languages.index, 'Count': top_languages.values})\n",
    "other_df = pd.DataFrame({'PreferredLanguage': ['Other'], 'Count': [other_count]})\n",
    "\n",
    "# Concatenate top languages and 'Other'\n",
    "language_df = pd.concat([top_languages_df, other_df])\n",
    "language_df = language_df[language_df['PreferredLanguage'] != '\\\\N']\n",
    "\n",
    "# Save into a new file\n",
    "output_language = 'language_patient_data.csv'\n",
    "language_df.to_csv(output_language, index=False)"
   ]
  },
  {
   "cell_type": "markdown",
   "id": "815b6fcb-1272-4967-9e46-4c56deef8b58",
   "metadata": {},
   "source": [
    "##### Analyze Race Data"
   ]
  },
  {
   "cell_type": "code",
   "execution_count": 3,
   "id": "6b2d2a8a-e565-405e-92ff-664fb9c2dfa1",
   "metadata": {},
   "outputs": [],
   "source": [
    "# Read new file with patient race\n",
    "\n",
    "import pandas as pd\n",
    "file_dem = \"patient-race.xlsx\"\n",
    "file_name_dem = \"patient-race\"\n",
    "df = pd.read_excel(file_dem, sheet_name=file_name_dem)"
   ]
  },
  {
   "cell_type": "code",
   "execution_count": 8,
   "id": "adb49cab-839e-4bc6-9a32-0765fadb560c",
   "metadata": {},
   "outputs": [],
   "source": [
    "# Get race from the file\n",
    "race_counts = df['Race'].value_counts().sort_index()\n",
    "race_counts = df['Race'].value_counts()\n",
    "\n",
    "# Group races with 10 or more patients individually, and group others under 'Other'\n",
    "top_races = race_counts[race_counts >= 2]\n",
    "other_race_count = race_counts[race_counts < 2].sum()\n",
    "\n",
    "# Create DataFrame for races\n",
    "top_races_df = pd.DataFrame({'Race': top_races.index, 'Count': top_races.values})\n",
    "other_race_df = pd.DataFrame({'Race': ['Other'], 'Count': [other_race_count]})\n",
    "\n",
    "# Concatenate top races and 'Other'\n",
    "race_df = pd.concat([top_races_df, other_race_df])\n",
    "race_df = race_df[race_df['Race'] != '\\\\N']\n",
    "\n",
    "# Save into a new file\n",
    "output_race = 'race_patient_data.csv'\n",
    "race_df.to_csv(output_race, index=False)"
   ]
  },
  {
   "cell_type": "code",
   "execution_count": 13,
   "id": "4befba98-8632-48f1-be6e-094152a61172",
   "metadata": {},
   "outputs": [],
   "source": [
    "# Load the Excel file\n",
    "file_diagnoses = \"patient-diagnoses.xlsx\"\n",
    "df = pd.read_excel(file_diagnoses, sheet_name='patient-diagnoses')\n",
    "\n",
    "# Get diagnosis counts from the 'Diagnoses' column\n",
    "diagnosis_counts = df['Diagnosis'].value_counts()\n",
    "\n",
    "# Filter for diagnoses with more than 20 occurrences\n",
    "top_diagnoses = diagnosis_counts[diagnosis_counts > 20]\n",
    "\n",
    "# Create a DataFrame with the filtered diagnosis and counts\n",
    "top_diagnosis_df = pd.DataFrame({'Diagnosis': top_diagnoses.index, 'Count': top_diagnoses.values})\n",
    "\n",
    "# Save the filtered diagnosis counts into a new CSV file\n",
    "output_top_diagnosis = 'top_diagnosis_patient_data.csv'\n",
    "top_diagnosis_df.to_csv(output_top_diagnosis, index=False)"
   ]
  },
  {
   "cell_type": "code",
   "execution_count": null,
   "id": "b3e8329e-7b9f-4626-b00d-49fc3efc1479",
   "metadata": {},
   "outputs": [],
   "source": []
  }
 ],
 "metadata": {
  "kernelspec": {
   "display_name": "Python 3 (ipykernel)",
   "language": "python",
   "name": "python3"
  },
  "language_info": {
   "codemirror_mode": {
    "name": "ipython",
    "version": 3
   },
   "file_extension": ".py",
   "mimetype": "text/x-python",
   "name": "python",
   "nbconvert_exporter": "python",
   "pygments_lexer": "ipython3",
   "version": "3.11.5"
  }
 },
 "nbformat": 4,
 "nbformat_minor": 5
}
